{
 "cells": [
  {
   "cell_type": "code",
   "execution_count": 1,
   "id": "e4eacf18",
   "metadata": {},
   "outputs": [
    {
     "name": "stdout",
     "output_type": "stream",
     "text": [
      "Requirement already satisfied: keras in /Users/clocreis/opt/anaconda3/lib/python3.8/site-packages (2.8.0)\n",
      "Requirement already satisfied: Tensorflow in /Users/clocreis/opt/anaconda3/lib/python3.8/site-packages (2.8.0)\n",
      "Requirement already satisfied: six>=1.12.0 in /Users/clocreis/opt/anaconda3/lib/python3.8/site-packages (from Tensorflow) (1.15.0)\n",
      "Requirement already satisfied: tf-estimator-nightly==2.8.0.dev2021122109 in /Users/clocreis/opt/anaconda3/lib/python3.8/site-packages (from Tensorflow) (2.8.0.dev2021122109)\n",
      "Requirement already satisfied: numpy>=1.20 in /Users/clocreis/opt/anaconda3/lib/python3.8/site-packages (from Tensorflow) (1.20.1)\n",
      "Requirement already satisfied: gast>=0.2.1 in /Users/clocreis/opt/anaconda3/lib/python3.8/site-packages (from Tensorflow) (0.5.3)\n",
      "Requirement already satisfied: flatbuffers>=1.12 in /Users/clocreis/opt/anaconda3/lib/python3.8/site-packages (from Tensorflow) (2.0)\n",
      "Requirement already satisfied: grpcio<2.0,>=1.24.3 in /Users/clocreis/opt/anaconda3/lib/python3.8/site-packages (from Tensorflow) (1.46.0)\n",
      "Requirement already satisfied: h5py>=2.9.0 in /Users/clocreis/opt/anaconda3/lib/python3.8/site-packages (from Tensorflow) (2.10.0)\n",
      "Requirement already satisfied: tensorboard<2.9,>=2.8 in /Users/clocreis/opt/anaconda3/lib/python3.8/site-packages (from Tensorflow) (2.8.0)\n",
      "Requirement already satisfied: keras<2.9,>=2.8.0rc0 in /Users/clocreis/opt/anaconda3/lib/python3.8/site-packages (from Tensorflow) (2.8.0)\n",
      "Requirement already satisfied: astunparse>=1.6.0 in /Users/clocreis/opt/anaconda3/lib/python3.8/site-packages (from Tensorflow) (1.6.3)\n",
      "Requirement already satisfied: typing-extensions>=3.6.6 in /Users/clocreis/opt/anaconda3/lib/python3.8/site-packages (from Tensorflow) (3.7.4.3)\n",
      "Requirement already satisfied: opt-einsum>=2.3.2 in /Users/clocreis/opt/anaconda3/lib/python3.8/site-packages (from Tensorflow) (3.3.0)\n",
      "Requirement already satisfied: termcolor>=1.1.0 in /Users/clocreis/opt/anaconda3/lib/python3.8/site-packages (from Tensorflow) (1.1.0)\n",
      "Requirement already satisfied: wrapt>=1.11.0 in /Users/clocreis/opt/anaconda3/lib/python3.8/site-packages (from Tensorflow) (1.12.1)\n",
      "Requirement already satisfied: google-pasta>=0.1.1 in /Users/clocreis/opt/anaconda3/lib/python3.8/site-packages (from Tensorflow) (0.2.0)\n",
      "Requirement already satisfied: protobuf>=3.9.2 in /Users/clocreis/opt/anaconda3/lib/python3.8/site-packages (from Tensorflow) (3.20.1)\n",
      "Requirement already satisfied: setuptools in /Users/clocreis/opt/anaconda3/lib/python3.8/site-packages (from Tensorflow) (52.0.0.post20210125)\n",
      "Requirement already satisfied: libclang>=9.0.1 in /Users/clocreis/opt/anaconda3/lib/python3.8/site-packages (from Tensorflow) (14.0.1)\n",
      "Requirement already satisfied: keras-preprocessing>=1.1.1 in /Users/clocreis/opt/anaconda3/lib/python3.8/site-packages (from Tensorflow) (1.1.2)\n",
      "Requirement already satisfied: tensorflow-io-gcs-filesystem>=0.23.1 in /Users/clocreis/opt/anaconda3/lib/python3.8/site-packages (from Tensorflow) (0.25.0)\n",
      "Requirement already satisfied: absl-py>=0.4.0 in /Users/clocreis/opt/anaconda3/lib/python3.8/site-packages (from Tensorflow) (1.0.0)\n",
      "Requirement already satisfied: wheel<1.0,>=0.23.0 in /Users/clocreis/opt/anaconda3/lib/python3.8/site-packages (from astunparse>=1.6.0->Tensorflow) (0.36.2)\n",
      "Requirement already satisfied: requests<3,>=2.21.0 in /Users/clocreis/opt/anaconda3/lib/python3.8/site-packages (from tensorboard<2.9,>=2.8->Tensorflow) (2.25.1)\n",
      "Requirement already satisfied: google-auth<3,>=1.6.3 in /Users/clocreis/opt/anaconda3/lib/python3.8/site-packages (from tensorboard<2.9,>=2.8->Tensorflow) (2.6.6)\n",
      "Requirement already satisfied: markdown>=2.6.8 in /Users/clocreis/opt/anaconda3/lib/python3.8/site-packages (from tensorboard<2.9,>=2.8->Tensorflow) (3.3.7)\n",
      "Requirement already satisfied: google-auth-oauthlib<0.5,>=0.4.1 in /Users/clocreis/opt/anaconda3/lib/python3.8/site-packages (from tensorboard<2.9,>=2.8->Tensorflow) (0.4.6)\n",
      "Requirement already satisfied: werkzeug>=0.11.15 in /Users/clocreis/opt/anaconda3/lib/python3.8/site-packages (from tensorboard<2.9,>=2.8->Tensorflow) (1.0.1)\n",
      "Requirement already satisfied: tensorboard-data-server<0.7.0,>=0.6.0 in /Users/clocreis/opt/anaconda3/lib/python3.8/site-packages (from tensorboard<2.9,>=2.8->Tensorflow) (0.6.1)\n",
      "Requirement already satisfied: tensorboard-plugin-wit>=1.6.0 in /Users/clocreis/opt/anaconda3/lib/python3.8/site-packages (from tensorboard<2.9,>=2.8->Tensorflow) (1.8.1)\n",
      "Requirement already satisfied: rsa<5,>=3.1.4 in /Users/clocreis/opt/anaconda3/lib/python3.8/site-packages (from google-auth<3,>=1.6.3->tensorboard<2.9,>=2.8->Tensorflow) (4.8)\n",
      "Requirement already satisfied: cachetools<6.0,>=2.0.0 in /Users/clocreis/opt/anaconda3/lib/python3.8/site-packages (from google-auth<3,>=1.6.3->tensorboard<2.9,>=2.8->Tensorflow) (5.0.0)\n",
      "Requirement already satisfied: pyasn1-modules>=0.2.1 in /Users/clocreis/opt/anaconda3/lib/python3.8/site-packages (from google-auth<3,>=1.6.3->tensorboard<2.9,>=2.8->Tensorflow) (0.2.8)\n",
      "Requirement already satisfied: requests-oauthlib>=0.7.0 in /Users/clocreis/opt/anaconda3/lib/python3.8/site-packages (from google-auth-oauthlib<0.5,>=0.4.1->tensorboard<2.9,>=2.8->Tensorflow) (1.3.1)\n",
      "Requirement already satisfied: importlib-metadata>=4.4 in /Users/clocreis/opt/anaconda3/lib/python3.8/site-packages (from markdown>=2.6.8->tensorboard<2.9,>=2.8->Tensorflow) (4.11.3)\n",
      "Requirement already satisfied: zipp>=0.5 in /Users/clocreis/opt/anaconda3/lib/python3.8/site-packages (from importlib-metadata>=4.4->markdown>=2.6.8->tensorboard<2.9,>=2.8->Tensorflow) (3.4.1)\n",
      "Requirement already satisfied: pyasn1<0.5.0,>=0.4.6 in /Users/clocreis/opt/anaconda3/lib/python3.8/site-packages (from pyasn1-modules>=0.2.1->google-auth<3,>=1.6.3->tensorboard<2.9,>=2.8->Tensorflow) (0.4.8)\n",
      "Requirement already satisfied: certifi>=2017.4.17 in /Users/clocreis/opt/anaconda3/lib/python3.8/site-packages (from requests<3,>=2.21.0->tensorboard<2.9,>=2.8->Tensorflow) (2020.12.5)\n",
      "Requirement already satisfied: idna<3,>=2.5 in /Users/clocreis/opt/anaconda3/lib/python3.8/site-packages (from requests<3,>=2.21.0->tensorboard<2.9,>=2.8->Tensorflow) (2.10)\n",
      "Requirement already satisfied: urllib3<1.27,>=1.21.1 in /Users/clocreis/opt/anaconda3/lib/python3.8/site-packages (from requests<3,>=2.21.0->tensorboard<2.9,>=2.8->Tensorflow) (1.26.4)\n",
      "Requirement already satisfied: chardet<5,>=3.0.2 in /Users/clocreis/opt/anaconda3/lib/python3.8/site-packages (from requests<3,>=2.21.0->tensorboard<2.9,>=2.8->Tensorflow) (4.0.0)\n",
      "Requirement already satisfied: oauthlib>=3.0.0 in /Users/clocreis/opt/anaconda3/lib/python3.8/site-packages (from requests-oauthlib>=0.7.0->google-auth-oauthlib<0.5,>=0.4.1->tensorboard<2.9,>=2.8->Tensorflow) (3.2.0)\n",
      "Requirement already satisfied: wordcloud in /Users/clocreis/opt/anaconda3/lib/python3.8/site-packages (1.8.1)\n",
      "Requirement already satisfied: matplotlib in /Users/clocreis/opt/anaconda3/lib/python3.8/site-packages (from wordcloud) (3.3.4)\n",
      "Requirement already satisfied: numpy>=1.6.1 in /Users/clocreis/opt/anaconda3/lib/python3.8/site-packages (from wordcloud) (1.20.1)\n",
      "Requirement already satisfied: pillow in /Users/clocreis/opt/anaconda3/lib/python3.8/site-packages (from wordcloud) (8.2.0)\n",
      "Requirement already satisfied: pyparsing!=2.0.4,!=2.1.2,!=2.1.6,>=2.0.3 in /Users/clocreis/opt/anaconda3/lib/python3.8/site-packages (from matplotlib->wordcloud) (2.4.7)\n",
      "Requirement already satisfied: kiwisolver>=1.0.1 in /Users/clocreis/opt/anaconda3/lib/python3.8/site-packages (from matplotlib->wordcloud) (1.3.1)\n",
      "Requirement already satisfied: cycler>=0.10 in /Users/clocreis/opt/anaconda3/lib/python3.8/site-packages (from matplotlib->wordcloud) (0.10.0)\n",
      "Requirement already satisfied: python-dateutil>=2.1 in /Users/clocreis/opt/anaconda3/lib/python3.8/site-packages (from matplotlib->wordcloud) (2.8.1)\n",
      "Requirement already satisfied: six in /Users/clocreis/opt/anaconda3/lib/python3.8/site-packages (from cycler>=0.10->matplotlib->wordcloud) (1.15.0)\n",
      "Requirement already satisfied: pronouncing in /Users/clocreis/opt/anaconda3/lib/python3.8/site-packages (0.2.0)\n",
      "Requirement already satisfied: cmudict>=0.4.0 in /Users/clocreis/opt/anaconda3/lib/python3.8/site-packages (from pronouncing) (1.0.2)\n"
     ]
    },
    {
     "name": "stdout",
     "output_type": "stream",
     "text": [
      "Requirement already satisfied: markovify in /Users/clocreis/opt/anaconda3/lib/python3.8/site-packages (0.9.4)\r\n",
      "Requirement already satisfied: unidecode in /Users/clocreis/opt/anaconda3/lib/python3.8/site-packages (from markovify) (1.3.4)\r\n"
     ]
    }
   ],
   "source": [
    "!pip install keras\n",
    "!pip install Tensorflow\n",
    "!pip install wordcloud\n",
    "!pip install pronouncing\n",
    "!pip install markovify"
   ]
  },
  {
   "cell_type": "code",
   "execution_count": 2,
   "id": "8217c3ad",
   "metadata": {},
   "outputs": [],
   "source": [
    "import pandas as pd\n",
    "import numpy as np\n",
    "import seaborn as sns\n",
    "import matplotlib.pyplot as plt\n",
    "import string, os\n",
    "import nltk\n",
    "import re\n",
    "import random\n",
    "import keras\n",
    "import io\n",
    "from keras.utils import np_utils\n",
    "from keras.models import Sequential\n",
    "from keras.layers import LSTM, Dense, Dropout\n",
    "from tensorflow.keras.optimizers import Adam\n",
    "#from keras.optimizers import Adamax                ##cannot import it, does not work but it is solved\n",
    "import sys\n",
    "from PIL import Image\n",
    "from wordcloud import WordCloud, STOPWORDS, ImageColorGenerator\n",
    "from PIL import Image, ImageDraw, ImageFont\n",
    "import warnings\n",
    "warnings.filterwarnings(\"ignore\")"
   ]
  },
  {
   "cell_type": "code",
   "execution_count": 3,
   "id": "f7d462c7",
   "metadata": {},
   "outputs": [],
   "source": [
    "import pronouncing\n",
    "import markovify\n",
    "import re\n",
    "import random\n",
    "import numpy as np\n",
    "import os\n",
    "import keras\n",
    "from keras.models import Sequential\n",
    "from keras.layers import LSTM \n",
    "from keras.layers.core import Dense"
   ]
  },
  {
   "cell_type": "code",
   "execution_count": 4,
   "id": "b9f332c4",
   "metadata": {
    "scrolled": false
   },
   "outputs": [
    {
     "name": "stdout",
     "output_type": "stream",
     "text": [
      "name of the file: Bars.txt\n",
      "/Users/clocreis/Desktop/AUC ALL CLASSES/SEMESTER 4/TEXT MINING/PROJECT/Bars.txt\n"
     ]
    }
   ],
   "source": [
    "import os.path\n",
    "\n",
    "filename = input(\"name of the file: \")\n",
    "print(os.path.abspath(filename))"
   ]
  },
  {
   "cell_type": "code",
   "execution_count": 5,
   "id": "9374f2ef",
   "metadata": {
    "scrolled": false
   },
   "outputs": [],
   "source": [
    "#text_file = pd.read_csv(\"Bars.txt\", error_bad_lines = False)"
   ]
  },
  {
   "cell_type": "code",
   "execution_count": 6,
   "id": "1d1e3ae9",
   "metadata": {
    "scrolled": true
   },
   "outputs": [],
   "source": [
    "#print(data[\"text\"])"
   ]
  },
  {
   "cell_type": "code",
   "execution_count": 7,
   "id": "b9c599c6",
   "metadata": {
    "scrolled": true
   },
   "outputs": [],
   "source": [
    "#Artists in the dataset\n",
    "#print(\"Artists in the data:\\n\",data.rapper.value_counts())"
   ]
  },
  {
   "cell_type": "code",
   "execution_count": 8,
   "id": "acaa61f3",
   "metadata": {},
   "outputs": [],
   "source": [
    "##Size of the dataset\n",
    "#print(\"Size of Dataset:\",data.shape)"
   ]
  },
  {
   "cell_type": "code",
   "execution_count": 9,
   "id": "9d8bad57",
   "metadata": {},
   "outputs": [],
   "source": [
    "#take this from assignment 3\n",
    "##splitting the data into a train and validation set by splitting it into 80% fro training and 20% for validation \n",
    "\n",
    "#training_data = data.sample(frac=0.8, random_state=25)\n",
    "#testing_data = data.drop(training_data.index)\n",
    "\n",
    "#print(f\"No. of training examples: {training_data.shape[0]}\")\n",
    "#print(f\"No. of testing examples: {testing_data.shape[0]}\")"
   ]
  },
  {
   "cell_type": "code",
   "execution_count": 10,
   "id": "6d3e9145",
   "metadata": {},
   "outputs": [],
   "source": [
    "#data.describe()"
   ]
  },
  {
   "cell_type": "code",
   "execution_count": 11,
   "id": "cb54d199",
   "metadata": {},
   "outputs": [
    {
     "data": {
      "image/png": "[encoded data removed]",
      "text/plain": [
       "<Figure size 2160x1800 with 1 Axes>"
      ]
     },
     "metadata": {
      "needs_background": "light"
     },
     "output_type": "display_data"
    }
   ],
   "source": [
    "#text_file = \"Bars.txt\"\n",
    "#comment_words = ''\n",
    "#stopwords = set(STOPWORDS)\n",
    " \n",
    "# iterate through the csv file\n",
    "#for val in text_file:\n",
    "     \n",
    "    # typecaste each val to string\n",
    "#    val = str(val)\n",
    " \n",
    "    # split the value\n",
    "#    tokens = val.split()\n",
    "     \n",
    "    # Converts each token into lowercase\n",
    "#    for i in range(len(tokens)):\n",
    "#        tokens[i] = tokens[i].lower()\n",
    "     \n",
    "#    comment_words += \" \".join(tokens)+\" \"\n",
    " \n",
    "#wordcloud = WordCloud(width = 800, height = 800,\n",
    "#                background_color ='white',\n",
    "#               stopwords = stopwords,\n",
    "#                min_font_size = 10).generate(comment_words)\n",
    " \n",
    "# plot the WordCloud image                      \n",
    "#plt.figure(figsize = (8, 8), facecolor = None)\n",
    "#plt.imshow(wordcloud)\n",
    "#plt.axis(\"off\")\n",
    "#plt.tight_layout(pad = 0)\n",
    " \n",
    "#plt.show()\n",
    "text_file = \"bars.txt\"\n",
    "\n",
    "from collections import Counter\n",
    "from gensim.parsing.preprocessing import remove_stopwords\n",
    "import matplotlib.pyplot as plt\n",
    "import pandas as pd\n",
    "\n",
    "cnt = Counter()\n",
    "bars = open(text_file, \"r\", encoding='utf-8').read()\n",
    "filtered_bars = remove_stopwords(bars)\n",
    "\n",
    "for text in filtered_bars.split():\n",
    "    cnt[text] += 1\n",
    "\n",
    "\n",
    "word_freq = pd.DataFrame(cnt.most_common(50),\n",
    "                             columns=['words', 'count'])\n",
    "fig, ax = plt.subplots(figsize=(30,25))\n",
    "\n",
    "# Plot horizontal bar graph\n",
    "word_freq.sort_values(by='count').plot.barh(x='words',\n",
    "                      y='count',\n",
    "                      ax=ax,\n",
    "                      color=\"black\")\n",
    "ax.set_title(\"Common Words Found\")\n",
    "plt.show()"
   ]
  },
  {
   "cell_type": "code",
   "execution_count": 12,
   "id": "d8b29a6d",
   "metadata": {},
   "outputs": [],
   "source": [
    "def create_network(depth):\n",
    "\tmodel = Sequential()\n",
    "\tmodel.add(LSTM(4, input_shape=(2, 2), return_sequences=True))\n",
    "\tfor i in range(depth):\n",
    "\t\tmodel.add(LSTM(8, return_sequences=True))\n",
    "\tmodel.add(LSTM(2, return_sequences=True))\n",
    "\tmodel.summary()\n",
    "\tmodel.compile(optimizer='rmsprop',\n",
    "              loss='mse')\n",
    "\tif artist + \".rap\" in os.listdir(\".\") and train_mode == False:\n",
    "\t\tmodel.load_weights(str(artist + \".rap\"))\n",
    "\t\tprint(\"loading saved network: \" + str(artist) + \".rap\") \n",
    "\treturn model"
   ]
  },
  {
   "cell_type": "code",
   "execution_count": 13,
   "id": "d66cb6f5",
   "metadata": {},
   "outputs": [],
   "source": [
    "def markov(text_file):\n",
    "    ######\n",
    "\tread = open(text_file, \"r\", encoding='utf-8').read()\n",
    "\ttext_model = markovify.NewlineText(read)\n",
    "\treturn text_model"
   ]
  },
  {
   "cell_type": "code",
   "execution_count": 14,
   "id": "c05f35bd",
   "metadata": {},
   "outputs": [],
   "source": [
    "def syllables(line):\n",
    "    count = 0\n",
    "    for word in line.split(\" \"):\n",
    "#        print(line)\n",
    "        vowels = 'aeiouy'\n",
    "        word = re.sub(\"[^A-Za-z0-9'\\.\\n]\",\"\", word)\n",
    "        if not word:\n",
    "            continue\n",
    "        if word[0] in vowels:\n",
    "            count +=1\n",
    "            for index in range(1,len(word)):\n",
    "                if word[index] in vowels and word[index-1] not in vowels:\n",
    "                    count +=1\n",
    "        if word.endswith('e'):\n",
    "            count -= 1\n",
    "        if word.endswith('le'):\n",
    "            count+=1\n",
    "        if count == 0:\n",
    "            count +=1\n",
    "    return count / maxsyllables"
   ]
  },
  {
   "cell_type": "code",
   "execution_count": 15,
   "id": "4d905aac",
   "metadata": {},
   "outputs": [],
   "source": [
    "def rhymeindex(lyrics):\n",
    "\tif str(artist) + \".rhymes\" in os.listdir(\".\") and train_mode == False:\n",
    "\t\tprint (\"loading saved rhymes from \" + str(artist) + \".rhymes\")\n",
    "\t\treturn open(str(artist) + \".rhymes\", \"r\",encoding='utf-8').read().split(\"\\n\")\n",
    "\telse:\n",
    "\t\trhyme_master_list = []\n",
    "\t\tprint (\"Building list of rhymes:\")\n",
    "\t\tfor i in lyrics:\n",
    "\t\t\tword = re.sub(r\"\\W+\", '', i.split(\" \")[-1]).lower()\n",
    "\t\t\trhymeslist = pronouncing.rhymes(word)\n",
    "\t\t\trhymeslistends = []      \n",
    "\t\t\tfor i in rhymeslist:\n",
    "\t\t\t\trhymeslistends.append(i[-2:])\n",
    "\t\t\ttry:\n",
    "\t\t\t\trhymescheme = max(set(rhymeslistends), key=rhymeslistends.count)\n",
    "\t\t\texcept Exception:\n",
    "\t\t\t\trhymescheme = word[-2:]\n",
    "\t\t\trhyme_master_list.append(rhymescheme)\n",
    "\t\trhyme_master_list = list(set(rhyme_master_list))\n",
    "\t\treverselist = [x[::-1] for x in rhyme_master_list]\n",
    "\t\treverselist = sorted(reverselist)\n",
    "\t\trhymelist = [x[::-1] for x in reverselist]\n",
    "\t\tprint(\"List of Sorted 2-Letter Rhyme Ends:\")\n",
    "\t\tprint(rhymelist)\n",
    "\t\tf = open(str(artist) + \".rhymes\", \"w\", encoding='utf-8')\n",
    "\t\tf.write(\"\\n\".join(rhymelist))\n",
    "\t\tf.close()\n",
    "\t\treturn rhymelist"
   ]
  },
  {
   "cell_type": "code",
   "execution_count": 16,
   "id": "fc9d0350",
   "metadata": {},
   "outputs": [],
   "source": [
    "def rhyme(line, rhyme_list):\n",
    "\tword = re.sub(r\"\\W+\", '', line.split(\" \")[-1]).lower()\n",
    "\trhymeslist = pronouncing.rhymes(word)\n",
    "\trhymeslistends = []\n",
    "\tfor i in rhymeslist:\n",
    "\t\trhymeslistends.append(i[-2:])\n",
    "\ttry:\n",
    "\t\trhymescheme = max(set(rhymeslistends), key=rhymeslistends.count)\n",
    "\texcept Exception:\n",
    "\t\trhymescheme = word[-2:]\n",
    "\ttry:\n",
    "\t\tfloat_rhyme = rhyme_list.index(rhymescheme)\n",
    "\t\tfloat_rhyme = float_rhyme / float(len(rhyme_list))\n",
    "\t\treturn float_rhyme\n",
    "\texcept Exception:\n",
    "\t\tfloat_rhyme = None\n",
    "\t\treturn float_rhyme"
   ]
  },
  {
   "cell_type": "code",
   "execution_count": 17,
   "id": "d6597dc8",
   "metadata": {},
   "outputs": [],
   "source": [
    "def split_lyrics_file(text_file):\n",
    "\ttext = open(text_file, encoding='utf-8').read()\n",
    "\ttext = text.split(\"\\n\")\n",
    "\twhile \"\" in text:\n",
    "\t\ttext.remove(\"\")\n",
    "\treturn text"
   ]
  },
  {
   "cell_type": "code",
   "execution_count": 18,
   "id": "9985372a",
   "metadata": {},
   "outputs": [],
   "source": [
    "def generate_lyrics(text_model, text_file):\n",
    "\tbars = []\n",
    "\tlast_words = []\n",
    "\tlyriclength = len(open(text_file,encoding='utf-8').read().split(\"\\n\"))\n",
    "\tcount = 0\n",
    "\tmarkov_model = markov(text_file)\n",
    "\t\n",
    "\twhile len(bars) < lyriclength / 9 and count < lyriclength * 2:\n",
    "\t\tbar = markov_model.make_sentence(max_overlap_ratio = .49, tries=100)\n",
    "\t\tif type(bar) != type(None) and syllables(bar) < 1:\n",
    "\t\t\tdef get_last_word(bar):\n",
    "\t\t\t\tlast_word = bar.split(\" \")[-1]\n",
    "\t\t\t\tif last_word[-1] in \"!.?,\":\n",
    "\t\t\t\t\tlast_word = last_word[:-1]\n",
    "\t\t\t\treturn last_word\n",
    "\t\t\tlast_word = get_last_word(bar)\n",
    "\t\t\tif bar not in bars and last_words.count(last_word) < 3:\n",
    "\t\t\t\tbars.append(bar)\n",
    "\t\t\t\tlast_words.append(last_word)\n",
    "\t\t\t\tcount += 1\n",
    "\treturn bars"
   ]
  },
  {
   "cell_type": "code",
   "execution_count": 19,
   "id": "67379e50",
   "metadata": {},
   "outputs": [],
   "source": [
    "def build_dataset(lines, rhyme_list):\n",
    "\tdataset = []\n",
    "\tline_list = []\n",
    "\tfor line in lines:\n",
    "\t\tline_list = [line, syllables(line), rhyme(line, rhyme_list)]\n",
    "\t\tdataset.append(line_list)\n",
    "\tx_data = []\n",
    "\ty_data = []\n",
    "\tfor i in range(len(dataset) - 3):\n",
    "\t\tline1 = dataset[i    ][1:]\n",
    "\t\tline2 = dataset[i + 1][1:]\n",
    "\t\tline3 = dataset[i + 2][1:]\n",
    "\t\tline4 = dataset[i + 3][1:]\n",
    "\t\tx = [line1[0], line1[1], line2[0], line2[1]]\n",
    "\t\tx = np.array(x)\n",
    "\t\tx = x.reshape(2,2)\n",
    "\t\tx_data.append(x)\n",
    "\t\ty = [line3[0], line3[1], line4[0], line4[1]]\n",
    "\t\ty = np.array(y)\n",
    "\t\ty = y.reshape(2,2)\n",
    "\t\ty_data.append(y)\n",
    "\tx_data = np.array(x_data)\n",
    "\ty_data = np.array(y_data)\n",
    "\treturn x_data, y_data"
   ]
  },
  {
   "cell_type": "code",
   "execution_count": 20,
   "id": "bf2ca5de",
   "metadata": {},
   "outputs": [],
   "source": [
    "def compose_rap(lines, rhyme_list, lyrics_file, model):\n",
    "\trap_vectors = []\n",
    "\thuman_lyrics = split_lyrics_file(lyrics_file)\n",
    "\tinitial_index = random.choice(range(len(human_lyrics) - 1))\n",
    "\tinitial_lines = human_lyrics[initial_index:initial_index + 2]\n",
    "\tstarting_input = []\n",
    "\tfor line in initial_lines:\n",
    "\t\tstarting_input.append([syllables(line), rhyme(line, rhyme_list)])\n",
    "\tstarting_vectors = model.predict(np.array([starting_input]).flatten().reshape(1, 2, 2))\n",
    "\trap_vectors.append(starting_vectors)\n",
    "\tfor i in range(100):\n",
    "\t\trap_vectors.append(model.predict(np.array([rap_vectors[-1]]).flatten().reshape(1, 2, 2)))\n",
    "\treturn rap_vectors"
   ]
  },
  {
   "cell_type": "code",
   "execution_count": 21,
   "id": "269d1791",
   "metadata": {},
   "outputs": [],
   "source": [
    "def vectors_into_song(vectors, generated_lyrics, rhyme_list):\n",
    "\tprint (\"\\n\\n\")\t\n",
    "\tprint (\"Writing verse:\")\n",
    "\tprint (\"\\n\\n\")\n",
    "\tdef last_word_compare(rap, line2):\n",
    "\t\tpenalty = 0 \n",
    "\t\tfor line1 in rap:\n",
    "\t\t\tword1 = line1.split(\" \")[-1]\n",
    "\t\t\tword2 = line2.split(\" \")[-1]\n",
    "\t\t\twhile word1[-1] in \"?!,. \":\n",
    "\t\t\t\tword1 = word1[:-1]\n",
    "\t\t\twhile word2[-1] in \"?!,. \":\n",
    "\t\t\t\tword2 = word2[:-1]\n",
    "\t\t\tif word1 == word2:\n",
    "\t\t\t\tpenalty += 0.2\n",
    "\t\treturn penalty\n",
    "\tdef calculate_score(vector_half, syllables, rhyme, penalty):\n",
    "\t\tdesired_syllables = vector_half[0]\n",
    "\t\tdesired_rhyme = vector_half[1]\n",
    "\t\tdesired_syllables = desired_syllables * maxsyllables\n",
    "\t\tdesired_rhyme = desired_rhyme * len(rhyme_list)\n",
    "\t\tscore = 1.0 - abs(float(desired_syllables) - float(syllables)) + abs(float(desired_rhyme) - float(rhyme)) - penalty\n",
    "\t\treturn score\n",
    "\tdataset = []\n",
    "\tfor line in generated_lyrics:\n",
    "\t\tline_list = [line, syllables(line), rhyme(line, rhyme_list)]\n",
    "\t\tdataset.append(line_list)\n",
    "\trap = []\n",
    "\tvector_halves = []\n",
    "\tfor vector in vectors:\n",
    "\t\tvector_halves.append(list(vector[0][0])) \n",
    "\t\tvector_halves.append(list(vector[0][1]))\n",
    "\tfor vector in vector_halves:\n",
    "\t\tscorelist = []\n",
    "\t\tfor item in dataset:\n",
    "\t\t\tline = item[0]\n",
    "\t\t\tif len(rap) != 0:\n",
    "\t\t\t\tpenalty = last_word_compare(rap, line)\n",
    "\t\t\telse:\n",
    "\t\t\t\tpenalty = 0\n",
    "\t\t\ttotal_score = calculate_score(vector, item[1], item[2], penalty)\n",
    "\t\t\tscore_entry = [line, total_score]\n",
    "\t\t\tscorelist.append(score_entry)\n",
    "\t\tfixed_score_list = [0]\n",
    "\t\tfor score in scorelist:\n",
    "\t\t\tfixed_score_list.append(float(score[1]))\n",
    "\t\tmax_score = max(fixed_score_list)\n",
    "\t\tfor item in scorelist:\n",
    "\t\t\tif item[1] == max_score:\n",
    "\t\t\t\trap.append(item[0])\n",
    "\t\t\t\tprint (str(item[0]))\n",
    "\t\t\t\tfor i in dataset:\n",
    "\t\t\t\t\tif item[0] == i[0]:\n",
    "\t\t\t\t\t\tdataset.remove(i)\n",
    "\t\t\t\t\t\tbreak\n",
    "\t\t\t\tbreak     \n",
    "\treturn rap"
   ]
  },
  {
   "cell_type": "code",
   "execution_count": 22,
   "id": "d39f39f4",
   "metadata": {},
   "outputs": [],
   "source": [
    "def train(x_data, y_data, model):\n",
    "\tmodel.fit(np.array(x_data), np.array(y_data),\n",
    "\t\t\t  batch_size=2,\n",
    "\t\t\t  epochs=3,\n",
    "\t\t\t  verbose=1)\n",
    "\tmodel.save_weights(artist + \".rap\")"
   ]
  },
  {
   "cell_type": "code",
   "execution_count": 23,
   "id": "1a292d41",
   "metadata": {},
   "outputs": [],
   "source": [
    "def main(depth, train_mode):\n",
    "\tmodel = create_network(depth)\n",
    "\ttext_model = markov(text_file)\n",
    "\tif train_mode == True:\n",
    "\t\tbars = split_lyrics_file(text_file)\n",
    "\tif train_mode == False:\n",
    "\t\tbars = generate_lyrics(text_model, text_file)\n",
    "\trhyme_list = rhymeindex(bars)\n",
    "\tif train_mode == True:\n",
    "\t\tx_data, y_data = build_dataset(bars, rhyme_list)\n",
    "\t\ttrain(x_data, y_data, model)\n",
    "\tif train_mode == False:\n",
    "\t\tvectors = compose_rap(bars, rhyme_list, text_file, model)\n",
    "\t\trap = vectors_into_song(vectors, bars, rhyme_list)\n",
    "\t\tf = open(rap_file, \"w\", encoding='utf-8')\n",
    "\t\tfor bar in rap:\n",
    "\t\t\tf.write(bar)\n",
    "\t\t\tf.write(\"\\n\")"
   ]
  },
  {
   "cell_type": "code",
   "execution_count": 24,
   "id": "fbe81de9",
   "metadata": {},
   "outputs": [],
   "source": [
    "depth = 4 \n",
    "maxsyllables = 8\n",
    "artist = \"artist\"\n",
    "rap_file = \"temporary_poem.txt\""
   ]
  },
  {
   "cell_type": "code",
   "execution_count": 25,
   "id": "bada0a48",
   "metadata": {
    "scrolled": true
   },
   "outputs": [
    {
     "name": "stdout",
     "output_type": "stream",
     "text": [
      "Model: \"sequential\"\n",
      "_________________________________________________________________\n",
      " Layer (type)                Output Shape              Param #   \n",
      "=================================================================\n",
      " lstm (LSTM)                 (None, 2, 4)              112       \n",
      "                                                                 \n",
      " lstm_1 (LSTM)               (None, 2, 8)              416       \n",
      "                                                                 \n",
      " lstm_2 (LSTM)               (None, 2, 8)              544       \n",
      "                                                                 \n",
      " lstm_3 (LSTM)               (None, 2, 8)              544       \n",
      "                                                                 \n",
      " lstm_4 (LSTM)               (None, 2, 8)              544       \n",
      "                                                                 \n",
      " lstm_5 (LSTM)               (None, 2, 2)              88        \n",
      "                                                                 \n",
      "=================================================================\n",
      "Total params: 2,248\n",
      "Trainable params: 2,248\n",
      "Non-trainable params: 0\n",
      "_________________________________________________________________\n",
      "Building list of rhymes:\n",
      "List of Sorted 2-Letter Rhyme Ends:\n",
      "['', \"n'\", \"s'\", '0', '00', '10', '20', '30', '40', '50', '60', '80', '90', 'e0', '1', '01', '11', '21', '71', '91', 'a1', 'e1', 's1', '2', '02', '12', '22', '32', '42', '62', '72', '82', '92', 'k2', 'n2', 't2', 'u2', 'v2', 'w2', 'x2', '3', '03', '13', '23', '63', '73', '83', '93', 'c3', 'm3', 'o3', 'p3', 'x3', '4', '04', '14', '24', '34', '44', '54', '64', '74', '84', '94', 'b4', 'c4', 'x4', '5', '05', '15', '25', '35', '45', '55', '65', '75', '85', '95', 'c5', 'g5', 'x5', '6', '06', '16', '26', '36', '46', '56', '76', '86', '96', 'x6', '7', '07', '17', '47', '57', '67', '77', '87', '97', 'x7', '8', '08', '18', '28', '38', '48', '68', '88', '98', 'v8', 'x8', '9', '09', '19', '39', '59', '69', '79', '89', '99', 'b9', 'c9', 'h9', 'a', 'aa', 'ba', 'ca', 'da', 'ea', 'fa', 'ga', 'ha', 'ia', 'ja', 'ka', 'la', 'ma', 'na', 'oa', 'pa', 'ra', 'sa', 'ta', 'ua', 'va', 'wa', 'ya', 'za', 'ça', 'ab', 'cb', 'db', 'eb', 'ib', 'lb', 'mb', 'nb', 'ob', 'qb', 'rb', 'tb', 'ub', 'ac', 'bc', 'dc', 'fc', 'hc', 'ic', 'mc', 'nc', 'oc', 'yc', 'ōc', '3d', 'ad', 'bd', 'cd', 'dd', 'ed', 'gd', 'hd', 'id', 'kd', 'ld', 'md', 'nd', 'od', 'pd', 'rd', 'sd', 'td', 'ud', 'vd', 'wd', 'yd', 'zd', '6e', 'ae', 'be', 'ce', 'de', 'ee', 'fe', 'ge', 'he', 'ie', 'je', 'ke', 'le', 'me', 'ne', 'oe', 'pe', 're', 'se', 'te', 'ue', 've', 'we', 'ye', 'ze', 'ée', 'af', 'cf', 'ef', 'ff', 'if', 'lf', 'mf', 'nf', 'of', 'pf', 'rf', 'tf', 'wf', '4g', 'ag', 'bg', 'cg', 'eg', 'gg', 'ig', 'kg', 'mg', 'ng', 'og', 'pg', 'rg', 'ug', 'wg', 'yg', 'ah', 'ch', 'eh', 'gh', 'hh', 'ih', 'kh', 'mh', 'nh', 'oh', 'ph', 'sh', 'th', 'uh', 'ai', 'bi', 'ci', 'di', 'fi', 'gi', 'hi', 'ii', 'ji', 'ki', 'li', 'mi', 'ni', 'oi', 'pi', 'ri', 'si', 'ti', 'ui', 'vi', 'xi', 'zi', 'aj', 'jj', 'mj', 'pj', 'tj', '2k', '6k', 'ak', 'bk', 'ck', 'dk', 'ek', 'gk', 'hk', 'ik', 'kk', 'lk', 'nk', 'ok', 'rk', 'sk', 'wk', 'al', 'cl', 'el', 'fl', 'hl', 'il', 'll', 'ol', 'rl', 'sl', 'tl', 'ul', 'wl', 'xl', 'yl', 'am', 'bm', 'cm', 'dm', 'em', 'hm', 'im', 'km', 'lm', 'mm', 'om', 'rm', 'sm', 'um', 'ym', 'zm', 'an', 'cn', 'dn', 'en', 'gn', 'in', 'kn', 'mn', 'nn', 'on', 'pn', 'rn', 'un', 'wn', 'yn', 'án', 'én', 'ón', '0o', '2o', 'ao', 'bo', 'co', 'do', 'eo', 'fo', 'go', 'ho', 'io', 'jo', 'ko', 'lo', 'mo', 'no', 'oo', 'po', 'ro', 'so', 'to', 'vo', 'wo', 'xo', 'yo', 'zo', 'ão', 'ío', 'ño', 'ap', 'dp', 'ep', 'gp', 'ip', 'lp', 'mp', 'np', 'op', 'pp', 'qp', 'rp', 'sp', 'tp', 'up', 'vp', 'aq', 'gq', 'iq', 'ar', 'br', 'cr', 'dr', 'er', 'ir', 'jr', 'lr', 'or', 'rr', 'ur', 'zr', \"'s\", '0s', '1s', '2s', '3s', '4s', '5s', '6s', '7s', '8s', '9s', 'as', 'bs', 'cs', 'ds', 'es', 'fs', 'gs', 'hs', 'is', 'js', 'ks', 'ls', 'ms', 'ns', 'os', 'ps', 'qs', 'rs', 'ss', 'ts', 'us', 'vs', 'ws', 'xs', 'ys', 'zs', 'és', 'ús', \"'t\", 'at', 'bt', 'ct', 'dt', 'et', 'ft', 'gt', 'ht', 'it', 'jt', 'kt', 'lt', 'mt', 'nt', 'ot', 'pt', 'rt', 'st', 'tt', 'ut', 'xt', 'ét', 'ët', 'au', 'bu', 'cu', 'du', 'eu', 'fu', 'gu', 'hu', 'ju', 'ku', 'lu', 'mu', 'nu', 'ou', 'ru', 'su', 'uu', 'vu', 'zu', 'av', 'bv', 'iv', 'jv', 'lv', 'mv', 'nv', 'ov', 'pv', 'rv', 'uv', 'w', 'aw', 'ew', 'mw', 'ow', 'ww', '0x', '1x', '2x', '3x', '4x', '5x', '6x', '7x', '8x', 'ax', 'ex', 'fx', 'ix', 'kx', 'mx', 'ox', 'rx', 'ux', 'xx', 'ay', 'by', 'cy', 'dy', 'ey', 'fy', 'gy', 'hy', 'ky', 'ly', 'my', 'ny', 'oy', 'py', 'ry', 'sy', 'ty', 'uy', 'vy', 'xy', 'yy', 'zy', 'az', 'dz', 'ez', 'gz', 'hz', 'iz', 'lz', 'mz', 'nz', 'oz', 'rz', 'tz', 'uz', 'wz', 'yz', 'zz', 'là', 'pá', 'yá', 'cé', 'hé', 'mé', 'né', 'ré', 'sé', 'rê', 'lí', 'ка', '楽部', '있다', '는데', '나봐', '모임', '𝘴𝘦', '𝘶𝘩', '𝘦𝘳', '𝘤𝘴', '𝘥𝘴']\n",
      "Epoch 1/3\n",
      "86417/86417 [==============================] - 533s 6ms/step - loss: 0.0544\n",
      "Epoch 2/3\n",
      "86417/86417 [==============================] - 490s 6ms/step - loss: 0.0539\n",
      "Epoch 3/3\n",
      "86417/86417 [==============================] - 463s 5ms/step - loss: 0.0539\n"
     ]
    }
   ],
   "source": [
    "maxsyllables = 8\n",
    "text_file = \"Bars.txt\"\n",
    "train_mode = True        \n",
    "main(depth, train_mode)\n"
   ]
  },
  {
   "cell_type": "code",
   "execution_count": 26,
   "id": "aa7b1c0e",
   "metadata": {},
   "outputs": [
    {
     "name": "stdout",
     "output_type": "stream",
     "text": [
      "Model: \"sequential_1\"\n",
      "_________________________________________________________________\n",
      " Layer (type)                Output Shape              Param #   \n",
      "=================================================================\n",
      " lstm_6 (LSTM)               (None, 2, 4)              112       \n",
      "                                                                 \n",
      " lstm_7 (LSTM)               (None, 2, 8)              416       \n",
      "                                                                 \n",
      " lstm_8 (LSTM)               (None, 2, 8)              544       \n",
      "                                                                 \n",
      " lstm_9 (LSTM)               (None, 2, 8)              544       \n",
      "                                                                 \n",
      " lstm_10 (LSTM)              (None, 2, 8)              544       \n",
      "                                                                 \n",
      " lstm_11 (LSTM)              (None, 2, 2)              88        \n",
      "                                                                 \n",
      "=================================================================\n",
      "Total params: 2,248\n",
      "Trainable params: 2,248\n",
      "Non-trainable params: 0\n",
      "_________________________________________________________________\n",
      "loading saved rhymes from artist.rhymes\n",
      "\n",
      "\n",
      "\n",
      "Writing verse:\n",
      "\n",
      "\n",
      "\n",
      "So as I ride the rhythm of the rosé\n"
     ]
    },
    {
     "ename": "IndexError",
     "evalue": "string index out of range",
     "output_type": "error",
     "traceback": [
      "\u001b[0;31m---------------------------------------------------------------------------\u001b[0m",
      "\u001b[0;31mIndexError\u001b[0m                                Traceback (most recent call last)",
      "\u001b[0;32m<ipython-input-26-d09f0f551365>\u001b[0m in \u001b[0;36m<module>\u001b[0;34m\u001b[0m\n\u001b[1;32m      1\u001b[0m \u001b[0mtrain_mode\u001b[0m \u001b[0;34m=\u001b[0m \u001b[0;32mFalse\u001b[0m\u001b[0;34m\u001b[0m\u001b[0;34m\u001b[0m\u001b[0m\n\u001b[0;32m----> 2\u001b[0;31m \u001b[0mmain\u001b[0m\u001b[0;34m(\u001b[0m\u001b[0mdepth\u001b[0m\u001b[0;34m,\u001b[0m \u001b[0mtrain_mode\u001b[0m\u001b[0;34m)\u001b[0m\u001b[0;34m\u001b[0m\u001b[0;34m\u001b[0m\u001b[0m\n\u001b[0m",
      "\u001b[0;32m<ipython-input-23-9489b8e3c0b7>\u001b[0m in \u001b[0;36mmain\u001b[0;34m(depth, train_mode)\u001b[0m\n\u001b[1;32m     12\u001b[0m         \u001b[0;32mif\u001b[0m \u001b[0mtrain_mode\u001b[0m \u001b[0;34m==\u001b[0m \u001b[0;32mFalse\u001b[0m\u001b[0;34m:\u001b[0m\u001b[0;34m\u001b[0m\u001b[0;34m\u001b[0m\u001b[0m\n\u001b[1;32m     13\u001b[0m                 \u001b[0mvectors\u001b[0m \u001b[0;34m=\u001b[0m \u001b[0mcompose_rap\u001b[0m\u001b[0;34m(\u001b[0m\u001b[0mbars\u001b[0m\u001b[0;34m,\u001b[0m \u001b[0mrhyme_list\u001b[0m\u001b[0;34m,\u001b[0m \u001b[0mtext_file\u001b[0m\u001b[0;34m,\u001b[0m \u001b[0mmodel\u001b[0m\u001b[0;34m)\u001b[0m\u001b[0;34m\u001b[0m\u001b[0;34m\u001b[0m\u001b[0m\n\u001b[0;32m---> 14\u001b[0;31m                 \u001b[0mrap\u001b[0m \u001b[0;34m=\u001b[0m \u001b[0mvectors_into_song\u001b[0m\u001b[0;34m(\u001b[0m\u001b[0mvectors\u001b[0m\u001b[0;34m,\u001b[0m \u001b[0mbars\u001b[0m\u001b[0;34m,\u001b[0m \u001b[0mrhyme_list\u001b[0m\u001b[0;34m)\u001b[0m\u001b[0;34m\u001b[0m\u001b[0;34m\u001b[0m\u001b[0m\n\u001b[0m\u001b[1;32m     15\u001b[0m                 \u001b[0mf\u001b[0m \u001b[0;34m=\u001b[0m \u001b[0mopen\u001b[0m\u001b[0;34m(\u001b[0m\u001b[0mrap_file\u001b[0m\u001b[0;34m,\u001b[0m \u001b[0;34m\"w\"\u001b[0m\u001b[0;34m,\u001b[0m \u001b[0mencoding\u001b[0m\u001b[0;34m=\u001b[0m\u001b[0;34m'utf-8'\u001b[0m\u001b[0;34m)\u001b[0m\u001b[0;34m\u001b[0m\u001b[0;34m\u001b[0m\u001b[0m\n\u001b[1;32m     16\u001b[0m                 \u001b[0;32mfor\u001b[0m \u001b[0mbar\u001b[0m \u001b[0;32min\u001b[0m \u001b[0mrap\u001b[0m\u001b[0;34m:\u001b[0m\u001b[0;34m\u001b[0m\u001b[0;34m\u001b[0m\u001b[0m\n",
      "\u001b[0;32m<ipython-input-21-3bc14c839da2>\u001b[0m in \u001b[0;36mvectors_into_song\u001b[0;34m(vectors, generated_lyrics, rhyme_list)\u001b[0m\n\u001b[1;32m     36\u001b[0m                         \u001b[0mline\u001b[0m \u001b[0;34m=\u001b[0m \u001b[0mitem\u001b[0m\u001b[0;34m[\u001b[0m\u001b[0;36m0\u001b[0m\u001b[0;34m]\u001b[0m\u001b[0;34m\u001b[0m\u001b[0;34m\u001b[0m\u001b[0m\n\u001b[1;32m     37\u001b[0m                         \u001b[0;32mif\u001b[0m \u001b[0mlen\u001b[0m\u001b[0;34m(\u001b[0m\u001b[0mrap\u001b[0m\u001b[0;34m)\u001b[0m \u001b[0;34m!=\u001b[0m \u001b[0;36m0\u001b[0m\u001b[0;34m:\u001b[0m\u001b[0;34m\u001b[0m\u001b[0;34m\u001b[0m\u001b[0m\n\u001b[0;32m---> 38\u001b[0;31m                                 \u001b[0mpenalty\u001b[0m \u001b[0;34m=\u001b[0m \u001b[0mlast_word_compare\u001b[0m\u001b[0;34m(\u001b[0m\u001b[0mrap\u001b[0m\u001b[0;34m,\u001b[0m \u001b[0mline\u001b[0m\u001b[0;34m)\u001b[0m\u001b[0;34m\u001b[0m\u001b[0;34m\u001b[0m\u001b[0m\n\u001b[0m\u001b[1;32m     39\u001b[0m                         \u001b[0;32melse\u001b[0m\u001b[0;34m:\u001b[0m\u001b[0;34m\u001b[0m\u001b[0;34m\u001b[0m\u001b[0m\n\u001b[1;32m     40\u001b[0m                                 \u001b[0mpenalty\u001b[0m \u001b[0;34m=\u001b[0m \u001b[0;36m0\u001b[0m\u001b[0;34m\u001b[0m\u001b[0;34m\u001b[0m\u001b[0m\n",
      "\u001b[0;32m<ipython-input-21-3bc14c839da2>\u001b[0m in \u001b[0;36mlast_word_compare\u001b[0;34m(rap, line2)\u001b[0m\n\u001b[1;32m     10\u001b[0m                         \u001b[0;32mwhile\u001b[0m \u001b[0mword1\u001b[0m\u001b[0;34m[\u001b[0m\u001b[0;34m-\u001b[0m\u001b[0;36m1\u001b[0m\u001b[0;34m]\u001b[0m \u001b[0;32min\u001b[0m \u001b[0;34m\"?!,. \"\u001b[0m\u001b[0;34m:\u001b[0m\u001b[0;34m\u001b[0m\u001b[0;34m\u001b[0m\u001b[0m\n\u001b[1;32m     11\u001b[0m                                 \u001b[0mword1\u001b[0m \u001b[0;34m=\u001b[0m \u001b[0mword1\u001b[0m\u001b[0;34m[\u001b[0m\u001b[0;34m:\u001b[0m\u001b[0;34m-\u001b[0m\u001b[0;36m1\u001b[0m\u001b[0;34m]\u001b[0m\u001b[0;34m\u001b[0m\u001b[0;34m\u001b[0m\u001b[0m\n\u001b[0;32m---> 12\u001b[0;31m                         \u001b[0;32mwhile\u001b[0m \u001b[0mword2\u001b[0m\u001b[0;34m[\u001b[0m\u001b[0;34m-\u001b[0m\u001b[0;36m1\u001b[0m\u001b[0;34m]\u001b[0m \u001b[0;32min\u001b[0m \u001b[0;34m\"?!,. \"\u001b[0m\u001b[0;34m:\u001b[0m\u001b[0;34m\u001b[0m\u001b[0;34m\u001b[0m\u001b[0m\n\u001b[0m\u001b[1;32m     13\u001b[0m                                 \u001b[0mword2\u001b[0m \u001b[0;34m=\u001b[0m \u001b[0mword2\u001b[0m\u001b[0;34m[\u001b[0m\u001b[0;34m:\u001b[0m\u001b[0;34m-\u001b[0m\u001b[0;36m1\u001b[0m\u001b[0;34m]\u001b[0m\u001b[0;34m\u001b[0m\u001b[0;34m\u001b[0m\u001b[0m\n\u001b[1;32m     14\u001b[0m                         \u001b[0;32mif\u001b[0m \u001b[0mword1\u001b[0m \u001b[0;34m==\u001b[0m \u001b[0mword2\u001b[0m\u001b[0;34m:\u001b[0m\u001b[0;34m\u001b[0m\u001b[0;34m\u001b[0m\u001b[0m\n",
      "\u001b[0;31mIndexError\u001b[0m: string index out of range"
     ]
    }
   ],
   "source": [
    "train_mode = False\n",
    "main(depth, train_mode)\n"
   ]
  },
  {
   "cell_type": "code",
   "execution_count": null,
   "id": "1e401642",
   "metadata": {},
   "outputs": [],
   "source": []
  }
 ],
 "metadata": {
  "kernelspec": {
   "display_name": "Python 3",
   "language": "python",
   "name": "python3"
  },
  "language_info": {
   "codemirror_mode": {
    "name": "ipython",
    "version": 3
   },
   "file_extension": ".py",
   "mimetype": "text/x-python",
   "name": "python",
   "nbconvert_exporter": "python",
   "pygments_lexer": "ipython3",
   "version": "3.8.8"
  }
 },
 "nbformat": 4,
 "nbformat_minor": 5
}
